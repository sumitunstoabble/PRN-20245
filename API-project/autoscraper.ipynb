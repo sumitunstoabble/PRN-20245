{
 "cells": [
  {
   "cell_type": "code",
   "execution_count": 4,
   "metadata": {},
   "outputs": [],
   "source": [
    "from autoscraper import AutoScraper"
   ]
  },
  {
   "cell_type": "code",
   "execution_count": 5,
   "metadata": {},
   "outputs": [],
   "source": [
    "PNR_number = \"4910024233\"\n",
    "url = \"https://www.confirmtkt.com/pnr-status/\"+PNR_number"
   ]
  },
  {
   "cell_type": "code",
   "execution_count": 15,
   "metadata": {},
   "outputs": [],
   "source": [
    "Wanted_list= [\"CNF S8 49\"]"
   ]
  },
  {
   "cell_type": "code",
   "execution_count": 16,
   "metadata": {},
   "outputs": [
    {
     "ename": "AttributeError",
     "evalue": "'NoneType' object has no attribute 'items'",
     "output_type": "error",
     "traceback": [
      "\u001b[1;31m---------------------------------------------------------------------------\u001b[0m",
      "\u001b[1;31mAttributeError\u001b[0m                            Traceback (most recent call last)",
      "Cell \u001b[1;32mIn[16], line 2\u001b[0m\n\u001b[0;32m      1\u001b[0m scraper \u001b[38;5;241m=\u001b[39m AutoScraper()\n\u001b[1;32m----> 2\u001b[0m result \u001b[38;5;241m=\u001b[39m \u001b[43mscraper\u001b[49m\u001b[38;5;241;43m.\u001b[39;49m\u001b[43mbuild\u001b[49m\u001b[43m(\u001b[49m\u001b[43murl\u001b[49m\u001b[43m)\u001b[49m\n\u001b[0;32m      3\u001b[0m \u001b[38;5;28mprint\u001b[39m(result)\n",
      "File \u001b[1;32mc:\\Users\\dkath\\AppData\\Local\\Programs\\Python\\Python312\\Lib\\site-packages\\autoscraper\\auto_scraper.py:239\u001b[0m, in \u001b[0;36mAutoScraper.build\u001b[1;34m(self, url, wanted_list, wanted_dict, html, request_args, update, text_fuzz_ratio)\u001b[0m\n\u001b[0;32m    235\u001b[0m     wanted_dict \u001b[38;5;241m=\u001b[39m {\u001b[38;5;124m\"\u001b[39m\u001b[38;5;124m\"\u001b[39m: wanted_list}\n\u001b[0;32m    237\u001b[0m wanted_list \u001b[38;5;241m=\u001b[39m []\n\u001b[1;32m--> 239\u001b[0m \u001b[38;5;28;01mfor\u001b[39;00m alias, wanted_items \u001b[38;5;129;01min\u001b[39;00m \u001b[43mwanted_dict\u001b[49m\u001b[38;5;241;43m.\u001b[39;49m\u001b[43mitems\u001b[49m():\n\u001b[0;32m    240\u001b[0m     wanted_items \u001b[38;5;241m=\u001b[39m [normalize(w) \u001b[38;5;28;01mfor\u001b[39;00m w \u001b[38;5;129;01min\u001b[39;00m wanted_items]\n\u001b[0;32m    241\u001b[0m     wanted_list \u001b[38;5;241m+\u001b[39m\u001b[38;5;241m=\u001b[39m wanted_items\n",
      "\u001b[1;31mAttributeError\u001b[0m: 'NoneType' object has no attribute 'items'"
     ]
    }
   ],
   "source": [
    "scraper = AutoScraper()\n",
    "result = scraper.build(url)\n",
    "print(result)"
   ]
  },
  {
   "cell_type": "code",
   "execution_count": null,
   "metadata": {},
   "outputs": [],
   "source": []
  },
  {
   "cell_type": "code",
   "execution_count": null,
   "metadata": {},
   "outputs": [],
   "source": []
  },
  {
   "cell_type": "code",
   "execution_count": 18,
   "metadata": {},
   "outputs": [
    {
     "ename": "AttributeError",
     "evalue": "'NoneType' object has no attribute 'items'",
     "output_type": "error",
     "traceback": [
      "\u001b[1;31m---------------------------------------------------------------------------\u001b[0m",
      "\u001b[1;31mAttributeError\u001b[0m                            Traceback (most recent call last)",
      "Cell \u001b[1;32mIn[18], line 22\u001b[0m\n\u001b[0;32m     19\u001b[0m         \u001b[38;5;28;01mreturn\u001b[39;00m \u001b[38;5;124m\"\u001b[39m\u001b[38;5;124mConfirmation not found for PNR \u001b[39m\u001b[38;5;124m\"\u001b[39m \u001b[38;5;241m+\u001b[39m PNR_number\n\u001b[0;32m     21\u001b[0m \u001b[38;5;66;03m# Execute the scraping function and print the results\u001b[39;00m\n\u001b[1;32m---> 22\u001b[0m \u001b[38;5;28mprint\u001b[39m(\u001b[43mscrape_pnr_status\u001b[49m\u001b[43m(\u001b[49m\u001b[43murl\u001b[49m\u001b[43m)\u001b[49m)\n",
      "Cell \u001b[1;32mIn[18], line 12\u001b[0m, in \u001b[0;36mscrape_pnr_status\u001b[1;34m(url)\u001b[0m\n\u001b[0;32m     11\u001b[0m \u001b[38;5;28;01mdef\u001b[39;00m \u001b[38;5;21mscrape_pnr_status\u001b[39m(url):\n\u001b[1;32m---> 12\u001b[0m     result \u001b[38;5;241m=\u001b[39m \u001b[43mscraper\u001b[49m\u001b[38;5;241;43m.\u001b[39;49m\u001b[43mbuild\u001b[49m\u001b[43m(\u001b[49m\u001b[43murl\u001b[49m\u001b[43m)\u001b[49m  \u001b[38;5;66;03m# Remove the 'scraping_function' argument\u001b[39;00m\n\u001b[0;32m     13\u001b[0m     \u001b[38;5;66;03m# Filter results and check if any confirmation matches the Wanted_list\u001b[39;00m\n\u001b[0;32m     14\u001b[0m     text_elements \u001b[38;5;241m=\u001b[39m result\u001b[38;5;241m.\u001b[39mfind_all(\u001b[38;5;124m\"\u001b[39m\u001b[38;5;124mtext\u001b[39m\u001b[38;5;124m\"\u001b[39m, recursive\u001b[38;5;241m=\u001b[39m\u001b[38;5;28;01mTrue\u001b[39;00m)\n",
      "File \u001b[1;32mc:\\Users\\dkath\\AppData\\Local\\Programs\\Python\\Python312\\Lib\\site-packages\\autoscraper\\auto_scraper.py:239\u001b[0m, in \u001b[0;36mAutoScraper.build\u001b[1;34m(self, url, wanted_list, wanted_dict, html, request_args, update, text_fuzz_ratio)\u001b[0m\n\u001b[0;32m    235\u001b[0m     wanted_dict \u001b[38;5;241m=\u001b[39m {\u001b[38;5;124m\"\u001b[39m\u001b[38;5;124m\"\u001b[39m: wanted_list}\n\u001b[0;32m    237\u001b[0m wanted_list \u001b[38;5;241m=\u001b[39m []\n\u001b[1;32m--> 239\u001b[0m \u001b[38;5;28;01mfor\u001b[39;00m alias, wanted_items \u001b[38;5;129;01min\u001b[39;00m \u001b[43mwanted_dict\u001b[49m\u001b[38;5;241;43m.\u001b[39;49m\u001b[43mitems\u001b[49m():\n\u001b[0;32m    240\u001b[0m     wanted_items \u001b[38;5;241m=\u001b[39m [normalize(w) \u001b[38;5;28;01mfor\u001b[39;00m w \u001b[38;5;129;01min\u001b[39;00m wanted_items]\n\u001b[0;32m    241\u001b[0m     wanted_list \u001b[38;5;241m+\u001b[39m\u001b[38;5;241m=\u001b[39m wanted_items\n",
      "\u001b[1;31mAttributeError\u001b[0m: 'NoneType' object has no attribute 'items'"
     ]
    }
   ],
   "source": [
    "import autoscraper\n",
    "\n",
    "PNR_number = \"4910024233\"\n",
    "url = \"https://www.confirmtkt.com/pnr-status/\" + PNR_number\n",
    "\n",
    "Wanted_list = [\"CNF S8 49\"]\n",
    "\n",
    "scraper = autoscraper.AutoScraper()\n",
    "\n",
    "# Define a separate scraping function\n",
    "def scrape_pnr_status(url):\n",
    "    result = scraper.build(url)  # Remove the 'scraping_function' argument\n",
    "    # Filter results and check if any confirmation matches the Wanted_list\n",
    "    text_elements = result.find_all(\"text\", recursive=True)\n",
    "    confirmation_status = [text for text in text_elements if text in Wanted_list]\n",
    "    if confirmation_status:\n",
    "        return \"Confirmation found: \" + confirmation_status[0]\n",
    "    else:\n",
    "        return \"Confirmation not found for PNR \" + PNR_number\n",
    "\n",
    "# Execute the scraping function and print the results\n",
    "print(scrape_pnr_status(url))\n"
   ]
  },
  {
   "cell_type": "code",
   "execution_count": null,
   "metadata": {},
   "outputs": [],
   "source": []
  }
 ],
 "metadata": {
  "kernelspec": {
   "display_name": "API",
   "language": "python",
   "name": "python3"
  },
  "language_info": {
   "codemirror_mode": {
    "name": "ipython",
    "version": 3
   },
   "file_extension": ".py",
   "mimetype": "text/x-python",
   "name": "python",
   "nbconvert_exporter": "python",
   "pygments_lexer": "ipython3",
   "version": "3.12.3"
  }
 },
 "nbformat": 4,
 "nbformat_minor": 2
}
